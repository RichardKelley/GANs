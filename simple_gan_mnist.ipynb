{
 "cells": [
  {
   "cell_type": "markdown",
   "metadata": {},
   "source": [
    "# Generative Adversarial Networks"
   ]
  },
  {
   "cell_type": "markdown",
   "metadata": {},
   "source": [
    "\n",
    "We'll start with a very simplest setting that is still interesting."
   ]
  },
  {
   "cell_type": "code",
   "execution_count": null,
   "metadata": {
    "collapsed": false
   },
   "outputs": [],
   "source": [
    "import numpy as np\n",
    "import tensorflow as tf\n",
    "import matplotlib.pyplot as plt\n",
    "%pylab inline"
   ]
  },
  {
   "cell_type": "markdown",
   "metadata": {},
   "source": [
    "To demonstrate how GANs work, we'll use the MNIST dataset. Our generator will learn how to generate small pictures of handwritten digits, and our discriminator will try to distinguish between real images and fakes."
   ]
  },
  {
   "cell_type": "code",
   "execution_count": null,
   "metadata": {
    "collapsed": false
   },
   "outputs": [],
   "source": [
    "from tensorflow.examples.tutorials.mnist import input_data\n",
    "mnist = input_data.read_data_sets(\"MNIST_data/\", one_hot=True)"
   ]
  },
  {
   "cell_type": "markdown",
   "metadata": {},
   "source": [
    "We have two parameters that directly impact training time and model quality: `n_train_steps` and `batch_size`. \n",
    "\n",
    "Reasonable numbers for `batch_size` include small powers of 2; I like 256."
   ]
  },
  {
   "cell_type": "code",
   "execution_count": null,
   "metadata": {
    "collapsed": true
   },
   "outputs": [],
   "source": [
    "n_train_steps = 30000\n",
    "batch_size = 32"
   ]
  },
  {
   "cell_type": "markdown",
   "metadata": {},
   "source": [
    "Our generator will have a very simple structure. The input will be a 100-dimensional noise vector $z$, and we'll use just two layers. As an equation, the network looks like:\n",
    "\n",
    "$G = \\tanh((\\mbox{relu}(z * W_1 + b_1)) * W_2 + b_2)$"
   ]
  },
  {
   "cell_type": "code",
   "execution_count": null,
   "metadata": {
    "collapsed": false
   },
   "outputs": [],
   "source": [
    "z = tf.placeholder(tf.float32, shape=(None, 100))\n",
    "g_w1 = tf.get_variable(\"g_w1\", [100,512], initializer=tf.contrib.layers.xavier_initializer())\n",
    "g_b1 = tf.get_variable(\"g_b1\", [512], initializer=tf.constant_initializer(0.0))\n",
    "g_w2 = tf.get_variable(\"g_w2\", [512,784], initializer=tf.contrib.layers.xavier_initializer())\n",
    "g_b2 = tf.get_variable(\"g_b2\", [784], initializer=tf.constant_initializer(0.0))\n",
    "\n",
    "g_params = [g_w1, g_b1, g_w2, g_b2]\n",
    "\n",
    "def generator(z):\n",
    "    g_y1 = tf.nn.relu(tf.matmul(z, g_w1) + g_b1)\n",
    "    g = tf.matmul(g_y1, g_w2) + g_b2\n",
    "    G = tf.nn.tanh(g)\n",
    "    return G"
   ]
  },
  {
   "cell_type": "code",
   "execution_count": null,
   "metadata": {
    "collapsed": false
   },
   "outputs": [],
   "source": [
    "x = tf.placeholder(tf.float32, shape=(None, 784))\n",
    "d_w1 = tf.get_variable(\"d_w1\", [784,256], initializer=tf.contrib.layers.xavier_initializer_conv2d())\n",
    "d_b1 = tf.get_variable(\"d_b1\", [256], initializer=tf.constant_initializer(0.0))\n",
    "d_w2 = tf.get_variable(\"d_w2\", [256,1], initializer=tf.contrib.layers.xavier_initializer_conv2d())\n",
    "d_b2 = tf.get_variable(\"d_b2\", [1], initializer=tf.constant_initializer(0.0))\n",
    "\n",
    "d_params = [d_w1, d_b1, d_w2, d_b2]\n",
    "\n",
    "def discriminator(x):\n",
    "    d_y1 = tf.nn.relu(tf.matmul(x, d_w1) + d_b1)\n",
    "    d_logit = tf.matmul(d_y1, d_w2) + d_b2\n",
    "    d_prob = tf.nn.sigmoid(d_logit)\n",
    "    return d_prob, d_logit\n"
   ]
  },
  {
   "cell_type": "code",
   "execution_count": null,
   "metadata": {
    "collapsed": false
   },
   "outputs": [],
   "source": [
    "G = generator(z)\n",
    "D_real, D_logit_real = discriminator(x)\n",
    "D_fake, D_logit_fake = discriminator(G)"
   ]
  },
  {
   "cell_type": "code",
   "execution_count": null,
   "metadata": {
    "collapsed": false
   },
   "outputs": [],
   "source": [
    "obj_d = -tf.reduce_mean(tf.log(D_real) + tf.log(1-D_fake))\n",
    "obj_g = -tf.reduce_mean(tf.log(D_fake))"
   ]
  },
  {
   "cell_type": "code",
   "execution_count": null,
   "metadata": {
    "collapsed": false
   },
   "outputs": [],
   "source": [
    "opt_d = tf.train.AdamOptimizer(1e-5).minimize(obj_d, var_list=d_params)\n",
    "opt_g = tf.train.AdamOptimizer(1e-5).minimize(obj_g, var_list=g_params)"
   ]
  },
  {
   "cell_type": "code",
   "execution_count": null,
   "metadata": {
    "collapsed": true
   },
   "outputs": [],
   "source": [
    "def noise_prior(batch_size, dim):\n",
    "    return np.random.normal(0.0, 1.0, size=(batch_size, dim))"
   ]
  },
  {
   "cell_type": "code",
   "execution_count": null,
   "metadata": {
    "collapsed": false
   },
   "outputs": [],
   "source": [
    "sess=tf.InteractiveSession()\n",
    "tf.initialize_all_variables().run()"
   ]
  },
  {
   "cell_type": "code",
   "execution_count": null,
   "metadata": {
    "collapsed": false,
    "scrolled": false
   },
   "outputs": [],
   "source": [
    "k_d = 1\n",
    "k_g = 1\n",
    "histd, histg= np.zeros(n_train_steps), np.zeros(n_train_steps)\n",
    "for i in range(n_train_steps):\n",
    "    x_data, t_data = mnist.train.next_batch(batch_size)\n",
    "    x_mean = np.mean(x_data, axis=0)\n",
    "    x_std = np.std(x_data)\n",
    "    x_data = (x_data - x_mean) / x_std\n",
    "    noise = noise_prior(batch_size, 100)\n",
    "    for j in range(k_d):\n",
    "        histd[i], _ = sess.run([obj_d, opt_d], {x : x_data, z : noise})\n",
    "    for j in range(k_g):\n",
    "        histg[i], _ = sess.run([obj_g, opt_g], {z : noise})\n",
    "        \n",
    "    if i % (n_train_steps//10) == 0:\n",
    "        print i, histd[i], histg[i]\n"
   ]
  },
  {
   "cell_type": "code",
   "execution_count": null,
   "metadata": {
    "collapsed": false
   },
   "outputs": [],
   "source": [
    "plt.plot(range(n_train_steps), histd, label='obj_d')\n",
    "plt.plot(range(n_train_steps), histg, label='obj_g')\n",
    "plt.legend()"
   ]
  },
  {
   "cell_type": "code",
   "execution_count": null,
   "metadata": {
    "collapsed": false
   },
   "outputs": [],
   "source": [
    "test_batch, _ = mnist.train.next_batch(10 * batch_size)\n",
    "test_mean = np.mean(test_batch, axis=0)\n",
    "test_std = np.std(test_batch)\n",
    "\n",
    "out_im = (sess.run(G, {z : noise_prior(1, 100)}) * test_std + test_mean )\n",
    "out_im.shape = (28,28)\n",
    "imshow(out_im)"
   ]
  },
  {
   "cell_type": "code",
   "execution_count": null,
   "metadata": {
    "collapsed": false
   },
   "outputs": [],
   "source": [
    "out_im = sess.run(G, {z : noise_prior(1, 100)})\n",
    "out_im = test_std * out_im + test_mean\n",
    "out_im.shape = (28,28)\n",
    "imshow(out_im, cmap=\"gray\")"
   ]
  },
  {
   "cell_type": "code",
   "execution_count": null,
   "metadata": {
    "collapsed": true
   },
   "outputs": [],
   "source": []
  },
  {
   "cell_type": "code",
   "execution_count": null,
   "metadata": {
    "collapsed": true
   },
   "outputs": [],
   "source": []
  }
 ],
 "metadata": {
  "anaconda-cloud": {},
  "kernelspec": {
   "display_name": "Python [default]",
   "language": "python",
   "name": "python2"
  },
  "language_info": {
   "codemirror_mode": {
    "name": "ipython",
    "version": 2
   },
   "file_extension": ".py",
   "mimetype": "text/x-python",
   "name": "python",
   "nbconvert_exporter": "python",
   "pygments_lexer": "ipython2",
   "version": "2.7.12"
  }
 },
 "nbformat": 4,
 "nbformat_minor": 1
}
